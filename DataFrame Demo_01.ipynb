{
 "cells": [
  {
   "cell_type": "markdown",
   "metadata": {
    "slideshow": {
     "slide_type": "slide"
    }
   },
   "source": [
    "# Pandas DataFrame Demo - the basics\n",
    "## by Michael J. Murphy, May 2019"
   ]
  },
  {
   "cell_type": "markdown",
   "metadata": {
    "slideshow": {
     "slide_type": "slide"
    }
   },
   "source": [
    "Let's create a simple pandas DataFrame from scratch:"
   ]
  },
  {
   "cell_type": "code",
   "execution_count": 1,
   "metadata": {
    "scrolled": true,
    "slideshow": {
     "slide_type": "fragment"
    }
   },
   "outputs": [
    {
     "name": "stdout",
     "output_type": "stream",
     "text": [
      "   A   B   C\n",
      "0  1   1   1\n",
      "1  2   4   8\n",
      "2  3   9  27\n",
      "3  4  16  64\n"
     ]
    }
   ],
   "source": [
    "import pandas as pd\n",
    "\n",
    "df1 = pd.DataFrame({'A': [1, 2, 3, 4], 'B':[1, 4, 9, 16], 'C':[1, 8, 27, 64]})\n",
    "\n",
    "print(df1)"
   ]
  },
  {
   "cell_type": "markdown",
   "metadata": {
    "slideshow": {
     "slide_type": "slide"
    }
   },
   "source": [
    "Slice a section of the DataFrame, using the index accessor, .iloc:"
   ]
  },
  {
   "cell_type": "code",
   "execution_count": 2,
   "metadata": {
    "slideshow": {
     "slide_type": "fragment"
    }
   },
   "outputs": [
    {
     "name": "stdout",
     "output_type": "stream",
     "text": [
      "   B  C\n",
      "0  1  1\n",
      "1  4  8\n"
     ]
    }
   ],
   "source": [
    "df1_sliced = df1.iloc[0:2, 1:]\n",
    "print(df1_sliced)"
   ]
  },
  {
   "cell_type": "markdown",
   "metadata": {
    "slideshow": {
     "slide_type": "slide"
    }
   },
   "source": [
    "Now, let's create a DataFrame that's a bit more like what we see on a typical electronic data deliverable (EDD):"
   ]
  },
  {
   "cell_type": "code",
   "execution_count": 3,
   "metadata": {
    "slideshow": {
     "slide_type": "fragment"
    }
   },
   "outputs": [
    {
     "name": "stdout",
     "output_type": "stream",
     "text": [
      "     ID        Date Matrix  Units     As      Be     Cd\n",
      "0  MW-1  05/05/2019  water   ug/L  0.555   0.777  0.333\n",
      "1  MW-2  05/05/2019  water   ug/L  1.320  <0.005   0.23\n",
      "2  MW-3  05/05/2019  water   ug/L  0.710    0.91  <0.05\n",
      "3  SB-1  05/06/2019   soil  mg/kg  0.075   0.045  0.056\n",
      "4  SB-2  05/06/2019   soil  mg/kg  0.170   0.088  0.099\n"
     ]
    }
   ],
   "source": [
    "df2 = pd.DataFrame({'ID':['MW-1', 'MW-2', 'MW-3', 'SB-1', 'SB-2'], \\\n",
    "                    'Date': ['05/05/2019', '05/05/2019', '05/05/2019', '05/06/2019', '05/06/2019'], \\\n",
    "                   'Matrix': ['water', 'water', 'water', 'soil', 'soil'], \\\n",
    "                   'Units': ['ug/L', 'ug/L', 'ug/L', 'mg/kg', 'mg/kg'], \\\n",
    "                   'As': [0.555, 1.32, 0.710, 0.075, 0.17], \\\n",
    "                   'Be': [0.777, '<0.005', 0.910, 0.045, 0.088], \\\n",
    "                   'Cd': [0.333, 0.230, '<0.05', 0.056, 0.099]})\n",
    "print(df2)"
   ]
  },
  {
   "cell_type": "markdown",
   "metadata": {
    "slideshow": {
     "slide_type": "slide"
    }
   },
   "source": [
    "Now, what if we only want records where water is the matrix? This is easily done using the .loc accessor:"
   ]
  },
  {
   "cell_type": "code",
   "execution_count": 4,
   "metadata": {
    "slideshow": {
     "slide_type": "fragment"
    }
   },
   "outputs": [
    {
     "name": "stdout",
     "output_type": "stream",
     "text": [
      "     ID        Date Matrix Units     As      Be     Cd\n",
      "0  MW-1  05/05/2019  water  ug/L  0.555   0.777  0.333\n",
      "1  MW-2  05/05/2019  water  ug/L  1.320  <0.005   0.23\n",
      "2  MW-3  05/05/2019  water  ug/L  0.710    0.91  <0.05\n"
     ]
    }
   ],
   "source": [
    "df3 = df2.loc[df2['Matrix']== 'water']\n",
    "print(df3)"
   ]
  },
  {
   "cell_type": "markdown",
   "metadata": {
    "slideshow": {
     "slide_type": "slide"
    }
   },
   "source": [
    "Alright, now we have the records we want. This format is great for a human-readable table, but it's not very useful if we want to import these records into a database. Let's melt this table down!"
   ]
  },
  {
   "cell_type": "code",
   "execution_count": 5,
   "metadata": {
    "slideshow": {
     "slide_type": "fragment"
    }
   },
   "outputs": [
    {
     "name": "stdout",
     "output_type": "stream",
     "text": [
      "     ID        Date Matrix Units Analyte  Result\n",
      "0  MW-1  05/05/2019  water  ug/L      As   0.555\n",
      "1  MW-2  05/05/2019  water  ug/L      As    1.32\n",
      "2  MW-3  05/05/2019  water  ug/L      As    0.71\n",
      "3  MW-1  05/05/2019  water  ug/L      Be   0.777\n",
      "4  MW-2  05/05/2019  water  ug/L      Be  <0.005\n",
      "5  MW-3  05/05/2019  water  ug/L      Be    0.91\n",
      "6  MW-1  05/05/2019  water  ug/L      Cd   0.333\n",
      "7  MW-2  05/05/2019  water  ug/L      Cd    0.23\n",
      "8  MW-3  05/05/2019  water  ug/L      Cd   <0.05\n"
     ]
    }
   ],
   "source": [
    "df4 = pd.melt(df3, id_vars = ['ID', 'Date', 'Matrix', 'Units'], value_vars = ['As', 'Be', 'Cd'], \\\n",
    "             var_name = 'Analyte', value_name = 'Result')\n",
    "print(df4)"
   ]
  },
  {
   "cell_type": "markdown",
   "metadata": {
    "slideshow": {
     "slide_type": "slide"
    }
   },
   "source": [
    "Now, we have our data in a long-format table that can be imported into a database. What if we want to add a new column for the '<' prefixes for ND results? Easily done with our .loc tool!"
   ]
  },
  {
   "cell_type": "code",
   "execution_count": 6,
   "metadata": {
    "scrolled": true,
    "slideshow": {
     "slide_type": "fragment"
    }
   },
   "outputs": [
    {
     "name": "stdout",
     "output_type": "stream",
     "text": [
      "     ID        Date Matrix Units Analyte  Result Prefix\n",
      "0  MW-1  05/05/2019  water  ug/L      As   0.555       \n",
      "1  MW-2  05/05/2019  water  ug/L      As    1.32       \n",
      "2  MW-3  05/05/2019  water  ug/L      As    0.71       \n",
      "3  MW-1  05/05/2019  water  ug/L      Be   0.777       \n",
      "4  MW-2  05/05/2019  water  ug/L      Be  <0.005      <\n",
      "5  MW-3  05/05/2019  water  ug/L      Be    0.91       \n",
      "6  MW-1  05/05/2019  water  ug/L      Cd   0.333       \n",
      "7  MW-2  05/05/2019  water  ug/L      Cd    0.23       \n",
      "8  MW-3  05/05/2019  water  ug/L      Cd   <0.05      <\n"
     ]
    }
   ],
   "source": [
    "df4['Prefix'] = ''\n",
    "df4.loc[df4['Result'].str.contains('<') == True, 'Prefix'] = '<'\n",
    "print(df4)"
   ]
  },
  {
   "cell_type": "markdown",
   "metadata": {
    "slideshow": {
     "slide_type": "slide"
    }
   },
   "source": [
    "Finally, let's do some housekeeping. We no longer need the '<' prefix in the result column, and the result values should be numbers (floats), not strings, for import to a database. "
   ]
  },
  {
   "cell_type": "code",
   "execution_count": 7,
   "metadata": {
    "slideshow": {
     "slide_type": "fragment"
    }
   },
   "outputs": [
    {
     "name": "stdout",
     "output_type": "stream",
     "text": [
      "0    0.555\n",
      "1    1.320\n",
      "2    0.710\n",
      "3    0.777\n",
      "4    0.005\n",
      "5    0.910\n",
      "6    0.333\n",
      "7    0.230\n",
      "8    0.050\n",
      "Name: Result, dtype: float64\n"
     ]
    }
   ],
   "source": [
    "import numpy as np\n",
    "\n",
    "df4['Result_1'] = df4['Result']\n",
    "df4['Result_1'] = df4['Result_1'].str.lstrip('<')\n",
    "df4['Result_1'] = df4['Result_1'].fillna(df4['Result'])\n",
    "df4['Result'] = pd.to_numeric(df4['Result_1'])\n",
    "print(df4.Result)"
   ]
  },
  {
   "cell_type": "markdown",
   "metadata": {
    "slideshow": {
     "slide_type": "slide"
    }
   },
   "source": [
    "Additionally, the column order is kind of odd; let's rearrange it into a more logical order. "
   ]
  },
  {
   "cell_type": "code",
   "execution_count": 8,
   "metadata": {
    "slideshow": {
     "slide_type": "fragment"
    }
   },
   "outputs": [
    {
     "name": "stdout",
     "output_type": "stream",
     "text": [
      "     ID        Date Analyte Prefix  Result Matrix\n",
      "0  MW-1  05/05/2019      As          0.555  water\n",
      "1  MW-2  05/05/2019      As          1.320  water\n",
      "2  MW-3  05/05/2019      As          0.710  water\n",
      "3  MW-1  05/05/2019      Be          0.777  water\n",
      "4  MW-2  05/05/2019      Be      <   0.005  water\n",
      "5  MW-3  05/05/2019      Be          0.910  water\n",
      "6  MW-1  05/05/2019      Cd          0.333  water\n",
      "7  MW-2  05/05/2019      Cd          0.230  water\n",
      "8  MW-3  05/05/2019      Cd      <   0.050  water\n"
     ]
    }
   ],
   "source": [
    "df5 = df4[['ID', 'Date', 'Analyte', 'Prefix', 'Result', 'Matrix']]\n",
    "print(df5)"
   ]
  },
  {
   "cell_type": "markdown",
   "metadata": {
    "slideshow": {
     "slide_type": "slide"
    }
   },
   "source": [
    "This short intro has illustrated some of the key tools and concepts of pandas DataFrames, and how they can be used in environmental data analysis. Next, let's take a look at a real-life example, using a historical dataset with over 40,000 records. "
   ]
  }
 ],
 "metadata": {
  "celltoolbar": "Slideshow",
  "kernelspec": {
   "display_name": "Python 3",
   "language": "python",
   "name": "python3"
  },
  "language_info": {
   "codemirror_mode": {
    "name": "ipython",
    "version": 3
   },
   "file_extension": ".py",
   "mimetype": "text/x-python",
   "name": "python",
   "nbconvert_exporter": "python",
   "pygments_lexer": "ipython3",
   "version": "3.7.1"
  }
 },
 "nbformat": 4,
 "nbformat_minor": 2
}
